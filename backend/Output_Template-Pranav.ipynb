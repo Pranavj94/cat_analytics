{
 "cells": [
  {
   "cell_type": "code",
   "execution_count": 1,
   "metadata": {},
   "outputs": [
    {
     "name": "stdout",
     "output_type": "stream",
     "text": [
      "d:\\Ardonagh\\SOV_cleanser\\SOV_v2\\cat_analytics\\backend\n"
     ]
    },
    {
     "name": "stderr",
     "output_type": "stream",
     "text": [
      "d:\\Ardonagh\\SOV_cleanser\\SOV_v2\\cat_analytics\\backend\\rms_utils\\functions.py:71: UserWarning: You appear to be connected to a CosmosDB cluster. For more information regarding feature compatibility and support please visit https://www.mongodb.com/supportability/cosmosdb\n",
      "  client = pymongo.MongoClient(uri)\n"
     ]
    }
   ],
   "source": [
    "#############################################\n",
    "### Imports \n",
    "#############################################\n",
    "\n",
    "import os\n",
    "cur_dir = os.getcwd()\n",
    "print(cur_dir)\n",
    "os.chdir('rms_utils')\n",
    "\n",
    "import data_cleaners\n",
    "import RiskModeller as rms\n",
    "import functions as fnc\n",
    "#from loc_file_schema import *\n",
    "import pandas as pd\n",
    "import numpy as np\n",
    "import datetime\n",
    "import re\n",
    "import os\n",
    "import requests\n",
    "import json\n",
    "from tinydb import TinyDB, Query, where\n",
    "from getpass import getpass\n",
    "pd.options.display.float_format = '{:,.2f}'.format\n",
    "pd.set_option('display.max_columns', 300)\n",
    "pd.set_option('displa*y.max_rows', 300)\n",
    "import math\n",
    "import allAAL as aal\n",
    "import pandas as pd\n",
    "import requests\n",
    "from getpass import getpass\n",
    "from datetime import date, datetime,timedelta\n",
    "from openpyxl import load_workbook, drawing\n",
    "\n",
    "import cargo_output as car\n",
    "import shutil\n",
    "import gc\n",
    "\n",
    "#############################################"
   ]
  },
  {
   "cell_type": "code",
   "execution_count": 2,
   "metadata": {},
   "outputs": [],
   "source": [
    "################################\n",
    "#Enter the database passwords, stored as globals\n",
    "################################\n",
    "\n",
    "#Prompt for database password if not already defined\n",
    "try:\n",
    "    PASSWORD\n",
    "except:\n",
    "    PASSWORD = getpass()\n",
    "else:\n",
    "    print(\"Password already set\")"
   ]
  },
  {
   "cell_type": "markdown",
   "metadata": {},
   "source": [
    "# Log in"
   ]
  },
  {
   "cell_type": "code",
   "execution_count": 3,
   "metadata": {},
   "outputs": [
    {
     "data": {
      "text/plain": [
       "'Bearer eyJhbGciOiJSUzI1NiIsImtpZCI6IlNFUlZJQ0VfTUFOQUdFTUVOVF8yMDIwMDcwNzE5MTUwMyIsInR5cCI6IkpXVCJ9.eyJ1c2VybmFtZSI6InByYW5hdi5qYXlha3VtYXJAYXJkb25hZ2hzcGVjaWFsdHkuY29tIiwidGVuYW50X2lkIjoiNjAwMDA1MiIsImp0aSI6IjAwMWIzMzQwLTAyZjUtNDBmMS1hZGE1LTkwMTAxYTE1ZGIyNiIsImV2ZW50X2lkIjoiZjkyYjUzNTUtZTRkMy00ODljLWEyY2EtMDhkZDQ2Mzg5OWZkIiwiYXV0aF90aW1lIjoxNzM4ODQzMTg2LCJ0b2tlbl91c2UiOiJhY2Nlc3MiLCJyb2xlcyI6WyJBZG1pbiIsIkRhdGEgQnJpZGdlIEFkbWluIiwiRGF0YSBCcmlkZ2UgQ29uc3VtZXIiLCJEYXRhIEJyaWRnZSBDb250cmlidXRvciIsIkRhdGEgRXhjaGFuZ2UgQWRtaW4iLCJEYXRhIEV4Y2hhbmdlIFVzZXIiLCJJUlAgTmF2aWdhdG9yIiwiQ2F0IE1vZGVsZXIiLCJQb3J0Zm9saW8gTWFuYWdlciJdLCJhY3Rpb25zIjpbIi8vLy8vLy8vLy8vUGZ3QVdPZ0FBIiwiL3cvNC96OD0iLCIvLytCQnc9PSIsIkFBQT0iLCIrdz09IiwiLy9rSCIsIkJ3PT0iLCI2ODY3ODc3NDc4QjI1RjE3RTUxOTJCNUIzQUNCMjY5QSJdLCJzY29wZWRfYWN0aW9ucyI6WyI1OEI5MDlFQy8vLy8vLy8vLy8vUGZ3QVdPZ0FBIiwiQUM4QTgxRTgvdy80L3o4PSIsIkQ3OERCMjEwLy8rQkJ3PT0iLCI0NDhDMzREREFBQT0iLCIwQjg1REY2Qyt3PT0iLCIzQzBFMzVGMy8va0giLCI3RUFDQTc5RUJ3PT0iXSwiYXBwcyI6WyJJQy1EQVRBQlJJREdFIiwiUkktUklTS01PREVMRVIiLCJSSS1SSVNLTU9ERUxFUi1FWFBPU1VSRV9BRERPTiJdLCJncm91cHMiOlsiQWRtaW4iLCJDQVQgTW9kZWxlciIsIkFyZG9uYWdoIl0sIm5iZiI6MTczODg0MzE4NiwiZXhwIjoxNzM4ODQ2Nzg2LCJpYXQiOjE3Mzg4NDMxODYsImlzcyI6IlJNUyJ9.M1eXHnGuVSjJUwCXVz0lDuS1cSbzhOOE9coCdqHzgPhHKNEt9yt8LTY4jQU4arGMuynnB-DTcKbo48stRQVghH5XEdZ7bksPiX9unmJy0KsKOIX27Vay71qOyw5HCzqR5_rVtNWHKA4gxHI8_rLm9tFar9rhH27EY8QSJN-w03LPxPhxb9rTh7iMCUpvnbwagZsKO2QSeokxdavOC7TDQoqGn6QLI0dI8ndQZnWT8kt-4qlD74QdJjBlvu0X9m7oQTeapjGK-0P91f1XjyMPe3iNw21t4ZD61XruXg5_P65bPiOeF0l9wDb1EwUjW-mWMwVvSeCRHhEZ6FQ_Z9un8w'"
      ]
     },
     "execution_count": 3,
     "metadata": {},
     "output_type": "execute_result"
    }
   ],
   "source": [
    "##replace the email with your email\n",
    "auth_file=rms.authenticationRMS('pranav.jayakumar@ardonaghspecialty.com',PASSWORD)\n",
    "auth_file[0]"
   ]
  },
  {
   "cell_type": "markdown",
   "metadata": {},
   "source": [
    "# Get all the information for a report"
   ]
  },
  {
   "cell_type": "code",
   "execution_count": 4,
   "metadata": {},
   "outputs": [],
   "source": [
    "##Choose database \n",
    "datasource= \"BG_Commercial_express_0125\""
   ]
  },
  {
   "cell_type": "code",
   "execution_count": 5,
   "metadata": {
    "scrolled": true
   },
   "outputs": [],
   "source": [
    "%%capture cap --no-stderr\n",
    "df_analyses=aal.getAnalyses(datasource,auth_file[0])\n",
    "df_portfolios=aal.getPortfolios(datasource,auth_file[0])\n",
    "df_policies=aal.getPolicies(datasource,auth_file[0])\n",
    "df_locations=aal.getLocationsFULL(datasource,auth_file[0])\n",
    "df_stochastic_cep,df_analyses = aal.stochastic_cep(df_analyses)"
   ]
  },
  {
   "cell_type": "code",
   "execution_count": 6,
   "metadata": {},
   "outputs": [
    {
     "data": {
      "text/html": [
       "<div>\n",
       "<style scoped>\n",
       "    .dataframe tbody tr th:only-of-type {\n",
       "        vertical-align: middle;\n",
       "    }\n",
       "\n",
       "    .dataframe tbody tr th {\n",
       "        vertical-align: top;\n",
       "    }\n",
       "\n",
       "    .dataframe thead th {\n",
       "        text-align: right;\n",
       "    }\n",
       "</style>\n",
       "<table border=\"1\" class=\"dataframe\">\n",
       "  <thead>\n",
       "    <tr style=\"text-align: right;\">\n",
       "      <th></th>\n",
       "      <th>index</th>\n",
       "    </tr>\n",
       "  </thead>\n",
       "  <tbody>\n",
       "  </tbody>\n",
       "</table>\n",
       "</div>"
      ],
      "text/plain": [
       "Empty DataFrame\n",
       "Columns: [index]\n",
       "Index: []"
      ]
     },
     "execution_count": 6,
     "metadata": {},
     "output_type": "execute_result"
    }
   ],
   "source": [
    "df_stochastic_cep.head()"
   ]
  },
  {
   "cell_type": "markdown",
   "metadata": {},
   "source": [
    "# Create a report"
   ]
  },
  {
   "cell_type": "code",
   "execution_count": 7,
   "metadata": {
    "scrolled": true
   },
   "outputs": [],
   "source": [
    "#car.createReport(datasource,df_analyses,df_portfolios,df_policies,df_locations,'ANA',auth_file)"
   ]
  },
  {
   "cell_type": "code",
   "execution_count": 7,
   "metadata": {},
   "outputs": [],
   "source": [
    "auth_file=rms.authenticationRMS('pranav.jayakumar@ardonaghspecialty.com',PASSWORD)"
   ]
  },
  {
   "cell_type": "code",
   "execution_count": 8,
   "metadata": {
    "scrolled": true
   },
   "outputs": [
    {
     "name": "stdout",
     "output_type": "stream",
     "text": [
      "HERE\n",
      "Creating Report\n",
      "FL\n",
      "47126\n",
      "Token refreshed\n",
      "doing Pre\n",
      "doing Pre\n",
      "TOPN LOCATIONS\n",
      "Doing most of the AAL heavylifting now\n",
      "refreshed token\n",
      "Made a copy of df_locations and extracted the neccessary columns\n",
      "47126\n",
      "{'totalCount': 1, 'offset': 0, 'limit': 1, 'locationAALs': [{'locationId': 17658, 'aal': 0.3117575430778908, 'standardDeviation': 34.359438593245635, 'coefficientOfVariation': 110.21205214162575}]}\n",
      "0\n",
      "refreshed token\n",
      "Extracted locations of those in this analysis with AALMaxlocations function\n",
      "refreshed token\n",
      "merged and aggregated Location and TIV information\n",
      "refreshed\n",
      "WS\n",
      "47125\n",
      "Token refreshed\n",
      "doing Pre\n",
      "doing Pre\n",
      "TOPN LOCATIONS\n",
      "Doing most of the AAL heavylifting now\n",
      "refreshed token\n",
      "Made a copy of df_locations and extracted the neccessary columns\n",
      "47125\n",
      "{'totalCount': 1, 'offset': 0, 'limit': 1, 'locationAALs': [{'locationId': 17658, 'aal': 20.872533023315434, 'standardDeviation': 197.20196593645278, 'coefficientOfVariation': 9.447917304343008}]}\n",
      "0\n",
      "refreshed token\n",
      "Extracted locations of those in this analysis with AALMaxlocations function\n",
      "refreshed token\n",
      "merged and aggregated Location and TIV information\n",
      "refreshed\n",
      "WS\n",
      "47127\n",
      "Token refreshed\n",
      "doing Pre\n",
      "doing Pre\n",
      "TOPN LOCATIONS\n",
      "Doing most of the AAL heavylifting now\n",
      "refreshed token\n",
      "Made a copy of df_locations and extracted the neccessary columns\n",
      "47127\n",
      "{'totalCount': 1710, 'offset': 0, 'limit': 1, 'locationAALs': [{'locationId': 17863, 'aal': 1108.2628815154246, 'standardDeviation': 6306.829931830681, 'coefficientOfVariation': 5.6907346054997365}]}\n",
      "0\n",
      "refreshed token\n",
      "Extracted locations of those in this analysis with AALMaxlocations function\n",
      "refreshed token\n",
      "merged and aggregated Location and TIV information\n",
      "refreshed\n",
      "FL\n",
      "47130\n",
      "Token refreshed\n",
      "doing Pre\n",
      "doing Pre\n",
      "TOPN LOCATIONS\n",
      "Doing most of the AAL heavylifting now\n",
      "refreshed token\n",
      "Made a copy of df_locations and extracted the neccessary columns\n",
      "47130\n",
      "{'totalCount': 1286, 'offset': 0, 'limit': 1, 'locationAALs': [{'locationId': 18870, 'aal': 2101.133932039724, 'standardDeviation': 27956.75288838192, 'coefficientOfVariation': 13.305554901606039}]}\n",
      "0\n",
      "refreshed token\n",
      "Extracted locations of those in this analysis with AALMaxlocations function\n",
      "refreshed token\n",
      "merged and aggregated Location and TIV information\n",
      "refreshed\n",
      "WS\n",
      "47128\n",
      "Token refreshed\n",
      "doing Pre\n",
      "doing Pre\n",
      "TOPN LOCATIONS\n",
      "Doing most of the AAL heavylifting now\n",
      "refreshed token\n",
      "Made a copy of df_locations and extracted the neccessary columns\n",
      "47128\n",
      "{'totalCount': 1304, 'offset': 0, 'limit': 1, 'locationAALs': [{'locationId': 17864, 'aal': 1147.053446053668, 'standardDeviation': 6527.420939305366, 'coefficientOfVariation': 5.69059877877736}]}\n",
      "0\n",
      "refreshed token\n",
      "Extracted locations of those in this analysis with AALMaxlocations function\n",
      "refreshed token\n",
      "merged and aggregated Location and TIV information\n",
      "refreshed\n",
      "FL\n",
      "47129\n",
      "Token refreshed\n",
      "doing Pre\n",
      "doing Pre\n",
      "TOPN LOCATIONS\n",
      "Doing most of the AAL heavylifting now\n",
      "refreshed token\n",
      "Made a copy of df_locations and extracted the neccessary columns\n",
      "47129\n",
      "{'totalCount': 1155, 'offset': 0, 'limit': 1, 'locationAALs': [{'locationId': 20411, 'aal': 6033.962469839313, 'standardDeviation': 100413.80212744657, 'coefficientOfVariation': 16.641436308124838}]}\n",
      "0\n",
      "refreshed token\n",
      "Extracted locations of those in this analysis with AALMaxlocations function\n",
      "refreshed token\n",
      "merged and aggregated Location and TIV information\n",
      "refreshed\n",
      "FL\n",
      "47098\n",
      "Token refreshed\n",
      "doing Pre\n",
      "doing Pre\n",
      "TOPN LOCATIONS\n",
      "Doing most of the AAL heavylifting now\n",
      "refreshed token\n",
      "Made a copy of df_locations and extracted the neccessary columns\n",
      "47098\n",
      "{'totalCount': 2060, 'offset': 0, 'limit': 1, 'locationAALs': [{'locationId': 33920, 'locationName': '', 'locationNumber': '795', 'aal': 1517.5905570343218, 'standardDeviation': 37074.23007683999, 'coefficientOfVariation': 24.42966576524469}]}\n",
      "0\n",
      "refreshed token\n",
      "Extracted locations of those in this analysis with AALMaxlocations function\n",
      "refreshed token\n",
      "merged and aggregated Location and TIV information\n",
      "refreshed\n",
      "WS\n",
      "47097\n",
      "Token refreshed\n",
      "doing Pre\n",
      "doing Pre\n",
      "TOPN LOCATIONS\n",
      "Doing most of the AAL heavylifting now\n",
      "refreshed token\n",
      "Made a copy of df_locations and extracted the neccessary columns\n",
      "47097\n",
      "{'totalCount': 2132, 'offset': 0, 'limit': 1, 'locationAALs': [{'locationId': 35400, 'locationName': '', 'locationNumber': '5667', 'aal': 1763.8415254016236, 'standardDeviation': 9995.770925895918, 'coefficientOfVariation': 5.667045923312129}]}\n",
      "0\n",
      "refreshed token\n",
      "Extracted locations of those in this analysis with AALMaxlocations function\n",
      "refreshed token\n",
      "merged and aggregated Location and TIV information\n",
      "refreshed\n",
      "FL\n",
      "47099\n",
      "Token refreshed\n",
      "doing Pre\n",
      "doing Pre\n",
      "TOPN LOCATIONS\n",
      "Doing most of the AAL heavylifting now\n",
      "refreshed token\n",
      "Made a copy of df_locations and extracted the neccessary columns\n",
      "47099\n",
      "{'totalCount': 5315, 'offset': 0, 'limit': 1, 'locationAALs': [{'locationId': 37351, 'locationName': '', 'locationNumber': '3310', 'aal': 6414.117798954501, 'standardDeviation': 104711.10165081747, 'coefficientOfVariation': 16.32509799989725}]}\n",
      "0\n",
      "refreshed token\n",
      "Extracted locations of those in this analysis with AALMaxlocations function\n",
      "refreshed token\n",
      "merged and aggregated Location and TIV information\n",
      "refreshed\n",
      "WS\n",
      "47102\n",
      "Token refreshed\n",
      "doing Pre\n",
      "doing Pre\n",
      "TOPN LOCATIONS\n",
      "Doing most of the AAL heavylifting now\n",
      "refreshed token\n",
      "Made a copy of df_locations and extracted the neccessary columns\n",
      "47102\n",
      "{'totalCount': 5423, 'offset': 0, 'limit': 1, 'locationAALs': [{'locationId': 39273, 'locationName': '', 'locationNumber': '7564', 'aal': 2095.817913893867, 'standardDeviation': 11875.239658756593, 'coefficientOfVariation': 5.666160013249108}]}\n",
      "0\n",
      "refreshed token\n",
      "Extracted locations of those in this analysis with AALMaxlocations function\n",
      "refreshed token\n",
      "merged and aggregated Location and TIV information\n",
      "refreshed\n",
      "FL\n",
      "47170\n",
      "Token refreshed\n",
      "doing Pre\n",
      "doing Pre\n",
      "TOPN LOCATIONS\n",
      "Doing most of the AAL heavylifting now\n",
      "refreshed token\n",
      "Made a copy of df_locations and extracted the neccessary columns\n",
      "47170\n",
      "{'totalCount': 4767, 'offset': 0, 'limit': 1, 'locationAALs': [{'locationId': 50524, 'locationName': '', 'locationNumber': '3311', 'aal': 6556.583798053838, 'standardDeviation': 106242.00045825483, 'coefficientOfVariation': 16.203865264375967}]}\n",
      "0\n",
      "refreshed token\n",
      "Extracted locations of those in this analysis with AALMaxlocations function\n",
      "refreshed token\n",
      "merged and aggregated Location and TIV information\n",
      "refreshed\n",
      "WS\n",
      "47171\n",
      "Token refreshed\n",
      "doing Pre\n",
      "doing Pre\n",
      "TOPN LOCATIONS\n",
      "Doing most of the AAL heavylifting now\n",
      "refreshed token\n",
      "Made a copy of df_locations and extracted the neccessary columns\n",
      "47171\n",
      "{'totalCount': 4876, 'offset': 0, 'limit': 1, 'locationAALs': [{'locationId': 52979, 'locationName': '', 'locationNumber': '11231', 'aal': 2988.6167172385613, 'standardDeviation': 49267.482114954815, 'coefficientOfVariation': 16.485045349166505}]}\n",
      "0\n",
      "refreshed token\n",
      "Extracted locations of those in this analysis with AALMaxlocations function\n",
      "refreshed token\n",
      "merged and aggregated Location and TIV information\n",
      "refreshed\n",
      "FL\n",
      "47045\n",
      "Token refreshed\n",
      "doing Pre\n",
      "doing Pre\n",
      "TOPN LOCATIONS\n",
      "Doing most of the AAL heavylifting now\n",
      "refreshed token\n",
      "Made a copy of df_locations and extracted the neccessary columns\n",
      "47045\n",
      "{'totalCount': 726, 'offset': 0, 'limit': 1, 'locationAALs': [{'locationId': 16310, 'locationName': '', 'locationNumber': '391', 'aal': 1012.2819008239917, 'standardDeviation': 23971.913413451537, 'coefficientOfVariation': 23.68106492266486}]}\n",
      "0\n",
      "refreshed token\n",
      "Extracted locations of those in this analysis with AALMaxlocations function\n",
      "refreshed token\n",
      "merged and aggregated Location and TIV information\n",
      "refreshed\n",
      "WS\n",
      "47048\n",
      "Token refreshed\n",
      "doing Pre\n",
      "doing Pre\n",
      "TOPN LOCATIONS\n",
      "Doing most of the AAL heavylifting now\n",
      "refreshed token\n",
      "Made a copy of df_locations and extracted the neccessary columns\n",
      "47048\n",
      "{'totalCount': 1126, 'offset': 0, 'limit': 1, 'locationAALs': [{'locationId': 16359, 'locationName': '', 'locationNumber': '440', 'aal': 1070.7844832577973, 'standardDeviation': 6093.440587398277, 'coefficientOfVariation': 5.690632132489771}]}\n",
      "0\n",
      "refreshed token\n",
      "Extracted locations of those in this analysis with AALMaxlocations function\n",
      "refreshed token\n",
      "merged and aggregated Location and TIV information\n",
      "refreshed\n",
      "FL\n",
      "47046\n",
      "Token refreshed\n",
      "doing Pre\n",
      "doing Pre\n",
      "TOPN LOCATIONS\n",
      "Doing most of the AAL heavylifting now\n",
      "refreshed token\n",
      "Made a copy of df_locations and extracted the neccessary columns\n",
      "47046\n",
      "{'totalCount': 348, 'offset': 0, 'limit': 1, 'locationAALs': [{'locationId': 17298, 'locationName': '', 'locationNumber': '1379', 'aal': 553.5503739519812, 'standardDeviation': 10403.200902774157, 'coefficientOfVariation': 18.79359384856382}]}\n",
      "0\n",
      "refreshed token\n",
      "Extracted locations of those in this analysis with AALMaxlocations function\n",
      "refreshed token\n",
      "merged and aggregated Location and TIV information\n",
      "refreshed\n",
      "WS\n",
      "47047\n",
      "Token refreshed\n",
      "doing Pre\n",
      "doing Pre\n",
      "TOPN LOCATIONS\n",
      "Doing most of the AAL heavylifting now\n",
      "refreshed token\n",
      "Made a copy of df_locations and extracted the neccessary columns\n",
      "47047\n",
      "{'totalCount': 607, 'offset': 0, 'limit': 1, 'locationAALs': [{'locationId': 17358, 'locationName': '', 'locationNumber': '1439', 'aal': 579.0705897871122, 'standardDeviation': 3689.7606708547573, 'coefficientOfVariation': 6.37186680852027}]}\n",
      "0\n",
      "refreshed token\n",
      "Extracted locations of those in this analysis with AALMaxlocations function\n",
      "refreshed token\n",
      "merged and aggregated Location and TIV information\n",
      "refreshed\n",
      "stochastic_cep is empty, will go onto next step\n",
      "Geocoding Summary\n",
      "Geocoding Summary\n",
      "Geocoding Summary\n",
      "Geocoding Summary\n",
      "Geocoding Summary\n"
     ]
    },
    {
     "data": {
      "text/plain": [
       "'reporting_outputs/BG_Commercial_express_0125_Modelling_Results_060225.xlsx'"
      ]
     },
     "execution_count": 8,
     "metadata": {},
     "output_type": "execute_result"
    }
   ],
   "source": [
    "### %%capture cap --no-stderr\n",
    "car.createReport(datasource,df_analyses,df_stochastic_cep,df_portfolios,df_policies,df_locations,'ANA',auth_file) "
   ]
  },
  {
   "cell_type": "code",
   "execution_count": null,
   "metadata": {},
   "outputs": [],
   "source": []
  },
  {
   "cell_type": "code",
   "execution_count": null,
   "metadata": {},
   "outputs": [],
   "source": []
  },
  {
   "cell_type": "markdown",
   "metadata": {},
   "source": [
    "# AAL by Location starts here"
   ]
  },
  {
   "cell_type": "code",
   "execution_count": null,
   "metadata": {},
   "outputs": [],
   "source": []
  },
  {
   "cell_type": "code",
   "execution_count": null,
   "metadata": {},
   "outputs": [],
   "source": [
    "auth_file=rms.authenticationRMS('akshay.sumaria@ardonaghspecialty.com',PASSWORD)\n",
    "auth_file[0]"
   ]
  },
  {
   "cell_type": "code",
   "execution_count": 27,
   "metadata": {},
   "outputs": [],
   "source": [
    "os.chdir('/opt/Analytics_Data/Analytics/RMS/Outputs')\n",
    "\n",
    "if not os.path.exists(f'./All_AAL_datasource/{datasource}/'):\n",
    "    os.makedirs(f'./All_AAL_datasource/{datasource}/')"
   ]
  },
  {
   "cell_type": "code",
   "execution_count": 28,
   "metadata": {},
   "outputs": [],
   "source": [
    "## Just some functions will then return the analysis\n",
    "\n",
    "def sendRequest(method,path,bearerToken):\n",
    "\n",
    "    # This is a base URL to append the endpoint to. Might be necessary to change v1 to v2 (or higher)\n",
    "    # in future if the endpoint version changes. Or add \"Version\" as a new argument\n",
    "\n",
    "    url = 'https://api-euw1.rms.com/riskmodeler/v1/' + path\n",
    "    headers = {\n",
    "      'Authorization': bearerToken\n",
    "    }\n",
    "\n",
    "    response = requests.request(method, url, headers=headers)\n",
    "    return response\n",
    "\n",
    "def getAnalyses(datasource, bearerToken):\n",
    "\n",
    "    analyses = sendRequest(\"GET\",'analyses?q=datasource = \"' + datasource + '\"',bearerToken).json()\n",
    "    df = pd.DataFrame(analyses['searchItems'])\n",
    "\n",
    "    return df\n",
    "\n",
    "df_analyses=getAnalyses(datasource,auth_file[0])"
   ]
  },
  {
   "cell_type": "code",
   "execution_count": 29,
   "metadata": {},
   "outputs": [],
   "source": [
    "def getAALmaxLocations(analysisId, perspective, bearToken):\n",
    "    #rangeMax=22\n",
    "    dfList=[]\n",
    "    #df=getTopNLocationAALs(analysisId, perspective, N, bearerToken)\n",
    "    path_with_param = 'analyses/{analysisid}/location-aal?perspective={perspective}&limit=1'\n",
    "    path = path_with_param\n",
    "    path = path.replace('{analysisid}',str(analysisId))\n",
    "    path = path.replace('{perspective}',perspective)\n",
    "    request = sendRequest(\"GET\",path,bearToken).json()\n",
    "    #return request\n",
    "    rangeMax=int(request['totalCount']/1000)+1\n",
    "    df_TopNLocationAALs = pd.DataFrame(request['locationAALs']) \n",
    "    for i in range(0,rangeMax):\n",
    "        offset=i*1000\n",
    "        path_with_param = 'analyses/{analysisid}/location-aal?perspective={perspective}&limit={N}&offset={offset}&sort=aal%20DESC'\n",
    "        path = path_with_param\n",
    "        path = path.replace('{analysisid}',str(analysisId))\n",
    "        path = path.replace('{perspective}',perspective)\n",
    "        path = path.replace('{N}','1000')\n",
    "        path = path.replace('{offset}',str(offset))\n",
    "        request = rms.sendRequest(\"GET\",path,bearToken).json()\n",
    "        df_TopNLocationAALs = pd.DataFrame(request['locationAALs']) \n",
    "        dfList.append(df_TopNLocationAALs)\n",
    "            \n",
    "    return pd.concat(dfList).drop_duplicates().reset_index()\n",
    "\n",
    "token=auth_file[0]\n",
    "# df = getAALmaxLocations(df_analyses.loc[0, 'id'], 'GR', token)\n",
    "# df.head()"
   ]
  },
  {
   "cell_type": "code",
   "execution_count": null,
   "metadata": {
    "scrolled": true
   },
   "outputs": [],
   "source": [
    "df_locations=aal.getLocationsFULL(datasource,auth_file[0])\n",
    "df_locations = df_locations[['locationId','streetAddress','cresta_zone', 'lowres_cresta', 'postalCode','state','county', 'city', 'country', 'tiv']]"
   ]
  },
  {
   "cell_type": "code",
   "execution_count": null,
   "metadata": {},
   "outputs": [],
   "source": [
    "analysesId = list(df_analyses['id'])\n",
    "analysesId"
   ]
  },
  {
   "cell_type": "code",
   "execution_count": null,
   "metadata": {
    "scrolled": true
   },
   "outputs": [],
   "source": [
    "GR_list =[]\n",
    "for i in range (len(analysesId)):\n",
    "    print(analysesId[i])\n",
    "    df = getAALmaxLocations(df_analyses.loc[i, 'id'], 'RL', token) ### change here\n",
    "    df = df.rename(columns = {'locationId':'Locations'})\n",
    "    locdf = df.merge(df_locations, how = 'left',left_on = 'Locations',right_on ='locationId')\n",
    "    output_folder =f\"./All_AAL_datasource/{datasource}/\" \n",
    "    locdf = locdf.rename(columns ={'aal':'RL_Loss'}) ### Change to RL_LOSS\n",
    "    locdf.to_csv(f\"{output_folder}{df_analyses.loc[i, 'name']}_RL_aal.csv\")\n",
    "    GR_list.append(locdf)"
   ]
  },
  {
   "cell_type": "code",
   "execution_count": null,
   "metadata": {},
   "outputs": [],
   "source": []
  },
  {
   "cell_type": "code",
   "execution_count": null,
   "metadata": {},
   "outputs": [],
   "source": [
    "for i in range (len(analysesId)):\n",
    "    print(analysesId[i])\n",
    "    df = getAALmaxLocations(df_analyses.loc[i, 'id'], 'GU', token) \n",
    "    df1 = GR_list[i]\n",
    "    df = df.rename(columns = {'locationId':'Locations'})\n",
    "    locdf = df.merge(df_locations, how = 'left',left_on = 'Locations',right_on ='locationId')\n",
    "    locdf = locdf.rename(columns ={'Locations':'Locations_GU','aal':'GU_Loss'})\n",
    "    locdf = locdf[['Locations_GU','GU_Loss']]\n",
    "    locdf = df1.merge(locdf,how = 'left',left_on = 'Locations', right_on = 'Locations_GU')\n",
    "    locdf = locdf.drop(columns =['Locations_GU'])\n",
    "    output_folder =f\"./All_AAL_datasource/{datasource}/\" \n",
    "    locdf.to_csv(f\"{output_folder}{df_analyses.loc[i, 'name']}_aal.csv\")"
   ]
  },
  {
   "cell_type": "code",
   "execution_count": null,
   "metadata": {},
   "outputs": [],
   "source": []
  },
  {
   "cell_type": "code",
   "execution_count": null,
   "metadata": {},
   "outputs": [],
   "source": []
  },
  {
   "cell_type": "code",
   "execution_count": null,
   "metadata": {},
   "outputs": [],
   "source": []
  },
  {
   "cell_type": "markdown",
   "metadata": {},
   "source": [
    "# Test"
   ]
  },
  {
   "cell_type": "code",
   "execution_count": 8,
   "metadata": {},
   "outputs": [],
   "source": [
    "auth_file=rms.authenticationRMS('akshay.sumaria@ardonaghspecialty.com',PASSWORD)\n",
    "token = auth_file[0]"
   ]
  },
  {
   "cell_type": "code",
   "execution_count": 9,
   "metadata": {},
   "outputs": [],
   "source": [
    "datasource = \"PF_LONGPOINT_1023\""
   ]
  },
  {
   "cell_type": "code",
   "execution_count": null,
   "metadata": {
    "scrolled": true
   },
   "outputs": [],
   "source": [
    "df_aal = car.getAALmaxLocations(24212,'GR',token)"
   ]
  },
  {
   "cell_type": "code",
   "execution_count": 34,
   "metadata": {},
   "outputs": [],
   "source": [
    "def sendRequest(method,path,bearerToken):\n",
    "\n",
    "    # This is a base URL to append the endpoint to. Might be necessary to change v1 to v2 (or higher)\n",
    "    # in future if the endpoint version changes. Or add \"Version\" as a new argument\n",
    "\n",
    "    url = 'https://api-euw1.rms.com/riskmodeler/v1/' + path\n",
    "    headers = {\n",
    "      'Authorization': bearerToken\n",
    "    }\n",
    "\n",
    "    response = requests.request(method, url, headers=headers)\n",
    "    return response"
   ]
  },
  {
   "cell_type": "code",
   "execution_count": 35,
   "metadata": {},
   "outputs": [],
   "source": [
    "def getLocations(datasource, bearerToken):\n",
    "\n",
    "    ## Gets TIV and location information for each location.\n",
    "\n",
    "    path = 'locations?datasource=' + datasource +'&limit=1000000000'\n",
    "\n",
    "    request = sendRequest(\"GET\",path,bearerToken).json()\n",
    "    \n",
    "    df_locations = pd.DataFrame(request['searchItems'])\n",
    "    return df_locations"
   ]
  },
  {
   "cell_type": "code",
   "execution_count": 50,
   "metadata": {},
   "outputs": [],
   "source": [
    "locations = getLocations(datasource, token)"
   ]
  },
  {
   "cell_type": "code",
   "execution_count": null,
   "metadata": {
    "scrolled": true
   },
   "outputs": [],
   "source": [
    "locations['location'].apply(pd.Series)['address'].apply(pd.Series)"
   ]
  },
  {
   "cell_type": "code",
   "execution_count": null,
   "metadata": {},
   "outputs": [],
   "source": [
    "locations.apply(lambda row: row['location']['address'])"
   ]
  },
  {
   "cell_type": "code",
   "execution_count": null,
   "metadata": {},
   "outputs": [],
   "source": []
  }
 ],
 "metadata": {
  "kernelspec": {
   "display_name": "base",
   "language": "python",
   "name": "python3"
  },
  "language_info": {
   "codemirror_mode": {
    "name": "ipython",
    "version": 3
   },
   "file_extension": ".py",
   "mimetype": "text/x-python",
   "name": "python",
   "nbconvert_exporter": "python",
   "pygments_lexer": "ipython3",
   "version": "3.12.7"
  }
 },
 "nbformat": 4,
 "nbformat_minor": 4
}
